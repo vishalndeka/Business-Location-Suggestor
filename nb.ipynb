{
 "cells": [
  {
   "cell_type": "code",
   "execution_count": 2,
   "metadata": {},
   "outputs": [],
   "source": [
    "import pandas as pd\n",
    "import numpy as np"
   ]
  },
  {
   "cell_type": "code",
   "execution_count": 3,
   "metadata": {},
   "outputs": [],
   "source": [
    "df = pd.read_csv('restaurant_data_guwahati.csv')"
   ]
  },
  {
   "cell_type": "markdown",
   "metadata": {},
   "source": [
    "# Some EDA"
   ]
  },
  {
   "cell_type": "code",
   "execution_count": 6,
   "metadata": {},
   "outputs": [
    {
     "data": {
      "text/html": [
       "<div>\n",
       "<style scoped>\n",
       "    .dataframe tbody tr th:only-of-type {\n",
       "        vertical-align: middle;\n",
       "    }\n",
       "\n",
       "    .dataframe tbody tr th {\n",
       "        vertical-align: top;\n",
       "    }\n",
       "\n",
       "    .dataframe thead th {\n",
       "        text-align: right;\n",
       "    }\n",
       "</style>\n",
       "<table border=\"1\" class=\"dataframe\">\n",
       "  <thead>\n",
       "    <tr style=\"text-align: right;\">\n",
       "      <th></th>\n",
       "      <th>name</th>\n",
       "      <th>coordinates</th>\n",
       "      <th>average_rating</th>\n",
       "      <th>number_of_ratings</th>\n",
       "    </tr>\n",
       "  </thead>\n",
       "  <tbody>\n",
       "    <tr>\n",
       "      <th>0</th>\n",
       "      <td>Quick Kitchen</td>\n",
       "      <td>(26.107517, 91.616328)</td>\n",
       "      <td>2.0</td>\n",
       "      <td>658</td>\n",
       "    </tr>\n",
       "    <tr>\n",
       "      <th>1</th>\n",
       "      <td>Golden Bakery</td>\n",
       "      <td>(26.130371, 91.789294)</td>\n",
       "      <td>3.5</td>\n",
       "      <td>584</td>\n",
       "    </tr>\n",
       "    <tr>\n",
       "      <th>2</th>\n",
       "      <td>Happy Bakery</td>\n",
       "      <td>(26.21307, 91.774535)</td>\n",
       "      <td>3.8</td>\n",
       "      <td>29</td>\n",
       "    </tr>\n",
       "    <tr>\n",
       "      <th>3</th>\n",
       "      <td>Quick Tavern</td>\n",
       "      <td>(26.150731, 91.839227)</td>\n",
       "      <td>2.2</td>\n",
       "      <td>770</td>\n",
       "    </tr>\n",
       "    <tr>\n",
       "      <th>4</th>\n",
       "      <td>Tasty Cafe</td>\n",
       "      <td>(26.150801, 91.696938)</td>\n",
       "      <td>2.4</td>\n",
       "      <td>143</td>\n",
       "    </tr>\n",
       "  </tbody>\n",
       "</table>\n",
       "</div>"
      ],
      "text/plain": [
       "            name             coordinates  average_rating  number_of_ratings\n",
       "0  Quick Kitchen  (26.107517, 91.616328)             2.0                658\n",
       "1  Golden Bakery  (26.130371, 91.789294)             3.5                584\n",
       "2   Happy Bakery   (26.21307, 91.774535)             3.8                 29\n",
       "3   Quick Tavern  (26.150731, 91.839227)             2.2                770\n",
       "4     Tasty Cafe  (26.150801, 91.696938)             2.4                143"
      ]
     },
     "execution_count": 6,
     "metadata": {},
     "output_type": "execute_result"
    }
   ],
   "source": [
    "df.head()"
   ]
  },
  {
   "cell_type": "code",
   "execution_count": 4,
   "metadata": {},
   "outputs": [],
   "source": [
    "test_df = df"
   ]
  },
  {
   "cell_type": "code",
   "execution_count": 9,
   "metadata": {},
   "outputs": [
    {
     "data": {
      "text/plain": [
       "'(26.107517, 91.616328)'"
      ]
     },
     "execution_count": 9,
     "metadata": {},
     "output_type": "execute_result"
    }
   ],
   "source": [
    "test_df.at[0, 'coordinates']"
   ]
  },
  {
   "cell_type": "markdown",
   "metadata": {},
   "source": [
    "#### Converting all co-ordinates from strings to floating point tuples"
   ]
  },
  {
   "cell_type": "code",
   "execution_count": 5,
   "metadata": {},
   "outputs": [],
   "source": [
    "# test_df.at[0, 'coordinates']\n",
    "lat = []\n",
    "long = []\n",
    "for i in range(test_df.shape[0]):\n",
    "    val = test_df.at[i, 'coordinates']\n",
    "    j = 0\n",
    "    while j < len(val):\n",
    "        if val[j]==',':\n",
    "            break\n",
    "        j += 1\n",
    "    \n",
    "    lat.append(np.float64(val[1:j]))\n",
    "    long.append(np.float64(val[j+2:-1]))\n"
   ]
  },
  {
   "cell_type": "code",
   "execution_count": 6,
   "metadata": {},
   "outputs": [],
   "source": [
    "test_df['lat'] = lat\n",
    "test_df['long'] = long"
   ]
  },
  {
   "cell_type": "code",
   "execution_count": 67,
   "metadata": {},
   "outputs": [],
   "source": [
    "max_c = [25.0, 90.0]\n",
    "min_c = [27.0, 93.0]\n",
    "for i in range(test_df.shape[0]):\n",
    "    c = test_df.at[i, 'coordinates']\n",
    "    if c[0] > max_c[0]:\n",
    "        max_c[0] = c[0]\n",
    "    if c[0] < min_c[0]:\n",
    "        min_c[0] = c[0]\n",
    "\n",
    "    if c[1] > max_c[1]:\n",
    "        max_c[1] = c[1]\n",
    "    if c[1] < min_c[1]:\n",
    "        min_c[1] = c[1]"
   ]
  },
  {
   "cell_type": "code",
   "execution_count": 66,
   "metadata": {},
   "outputs": [
    {
     "data": {
      "text/plain": [
       "([26.229162, 91.849942], [26.081007, 91.0])"
      ]
     },
     "execution_count": 66,
     "metadata": {},
     "output_type": "execute_result"
    }
   ],
   "source": [
    "max_c, min_c"
   ]
  },
  {
   "cell_type": "markdown",
   "metadata": {},
   "source": [
    "#### Plotting coordinates"
   ]
  },
  {
   "cell_type": "code",
   "execution_count": 7,
   "metadata": {},
   "outputs": [
    {
     "data": {
      "application/vnd.plotly.v1+json": {
       "config": {
        "plotlyServerURL": "https://plot.ly"
       },
       "data": [
        {
         "hovertemplate": "<b>%{hovertext}</b><br><br>lat=%{lat}<br>long=%{lon}<extra></extra>",
         "hovertext": [
          "Quick Kitchen",
          "Golden Bakery",
          "Happy Bakery",
          "Quick Tavern",
          "Tasty Cafe",
          "Cozy Bar",
          "Tasty Cafe",
          "Lucky Bistro",
          "Royal Buffet",
          "Charming Bakery",
          "Sunny Eatery",
          "Royal Tavern",
          "Lucky Bistro",
          "Cozy Cafe",
          "Lucky Cafe",
          "Royal Diner",
          "Golden Bistro",
          "Happy Grill",
          "Royal Tavern",
          "Spicy Bar",
          "Lucky Cafe",
          "Royal Diner",
          "Golden Bistro",
          "Tasty Cafe",
          "Tasty Bar",
          "Cozy Buffet",
          "Charming Tavern",
          "Spicy Eatery",
          "Happy Grill",
          "Cozy Grill",
          "Cozy Cafe",
          "Quick Bakery",
          "Charming Eatery",
          "Sunny Bistro",
          "Lucky Kitchen",
          "Happy Diner",
          "Sunny Bar",
          "Sunny Diner",
          "Quick Bar",
          "Lucky Bar",
          "Quick Grill",
          "Golden Grill",
          "Cozy Bakery",
          "Tasty Buffet",
          "Lucky Diner",
          "Lucky Eatery",
          "Happy Grill",
          "Royal Tavern",
          "Tasty Bar",
          "Royal Bakery",
          "Lucky Bar",
          "Golden Grill",
          "Happy Cafe",
          "Quick Eatery",
          "Sunny Bar",
          "Royal Cafe",
          "Tasty Diner",
          "Cozy Diner",
          "Royal Cafe",
          "Lucky Eatery",
          "Spicy Buffet",
          "Sunny Diner",
          "Cozy Kitchen",
          "Spicy Bakery",
          "Happy Eatery",
          "Happy Diner",
          "Spicy Tavern",
          "Quick Tavern",
          "Cozy Bakery",
          "Happy Eatery",
          "Sunny Bistro",
          "Tasty Diner",
          "Spicy Cafe",
          "Spicy Bistro",
          "Lucky Grill",
          "Spicy Kitchen",
          "Lucky Eatery",
          "Lucky Diner",
          "Spicy Tavern",
          "Lucky Kitchen",
          "Golden Bakery",
          "Golden Eatery",
          "Charming Cafe",
          "Royal Tavern",
          "Quick Buffet",
          "Sunny Bakery",
          "Quick Cafe",
          "Golden Eatery",
          "Cozy Cafe",
          "Happy Tavern",
          "Happy Buffet",
          "Happy Tavern",
          "Golden Eatery",
          "Spicy Diner",
          "Spicy Grill",
          "Tasty Diner",
          "Tasty Bistro",
          "Tasty Eatery",
          "Sunny Tavern",
          "Royal Bistro"
         ],
         "lat": [
          26.107517,
          26.130371,
          26.21307,
          26.150731,
          26.150801,
          26.207898,
          26.1833,
          26.181879,
          26.115839,
          26.090495,
          26.114454,
          26.132319,
          26.095069,
          26.08284,
          26.091988,
          26.148451,
          26.180964,
          26.146429,
          26.107391,
          26.215817,
          26.215673,
          26.13612,
          26.201104,
          26.221917,
          26.098913,
          26.164375,
          26.159407,
          26.175593,
          26.125347,
          26.098207,
          26.215798,
          26.141168,
          26.120225,
          26.083587,
          26.133499,
          26.176497,
          26.154419,
          26.096035,
          26.095248,
          26.148597,
          26.184174,
          26.201255,
          26.191902,
          26.099018,
          26.175469,
          26.197483,
          26.090693,
          26.128749,
          26.219756,
          26.170753,
          26.220953,
          26.105706,
          26.146895,
          26.105502,
          26.223939,
          26.191771,
          26.125659,
          26.186679,
          26.202956,
          26.184213,
          26.190858,
          26.224937,
          26.199472,
          26.197864,
          26.081007,
          26.159506,
          26.144655,
          26.091635,
          26.084556,
          26.225212,
          26.104764,
          26.164634,
          26.151516,
          26.202495,
          26.119896,
          26.146754,
          26.10873,
          26.113075,
          26.193582,
          26.126624,
          26.098858,
          26.08576,
          26.119472,
          26.229162,
          26.137279,
          26.162386,
          26.167523,
          26.125132,
          26.110917,
          26.088301,
          26.182151,
          26.096954,
          26.180229,
          26.14131,
          26.127718,
          26.12041,
          26.149438,
          26.223096,
          26.211499,
          26.092232
         ],
         "legendgroup": "",
         "lon": [
          91.616328,
          91.789294,
          91.774535,
          91.839227,
          91.696938,
          91.825909,
          91.724533,
          91.685791,
          91.795186,
          91.762563,
          91.781461,
          91.59568,
          91.731009,
          91.6811,
          91.830814,
          91.755968,
          91.786922,
          91.592669,
          91.708143,
          91.752431,
          91.653016,
          91.694504,
          91.840698,
          91.683792,
          91.806719,
          91.636673,
          91.591041,
          91.709225,
          91.656146,
          91.679143,
          91.795944,
          91.822368,
          91.687077,
          91.67669,
          91.664376,
          91.598324,
          91.673766,
          91.659148,
          91.720279,
          91.629608,
          91.848348,
          91.661333,
          91.773749,
          91.845993,
          91.663143,
          91.738042,
          91.63807,
          91.810872,
          91.62436,
          91.781932,
          91.722556,
          91.795747,
          91.825575,
          91.728868,
          91.650998,
          91.636486,
          91.649209,
          91.65732,
          91.619778,
          91.740428,
          91.635667,
          91.669805,
          91.581166,
          91.617446,
          91.802346,
          91.807952,
          91.815579,
          91.849942,
          91.646568,
          91.703709,
          91.632782,
          91.68681,
          91.719275,
          91.590719,
          91.710365,
          91.839115,
          91.816668,
          91.651161,
          91.668508,
          91.741476,
          91.740123,
          91.720005,
          91.601216,
          91.798633,
          91.589393,
          91.780754,
          91.650831,
          91.718242,
          91.731791,
          91.768772,
          91.778512,
          91.777012,
          91.580515,
          91.796912,
          91.677849,
          91.622284,
          91.806949,
          91.679071,
          91.729887,
          91.709521
         ],
         "marker": {
          "color": "#636efa"
         },
         "mode": "markers",
         "name": "",
         "showlegend": false,
         "subplot": "mapbox",
         "type": "scattermapbox"
        }
       ],
       "layout": {
        "height": 800,
        "legend": {
         "tracegroupgap": 0
        },
        "mapbox": {
         "center": {
          "lat": 26.15044476,
          "lon": 91.71463176000002
         },
         "domain": {
          "x": [
           0,
           1
          ],
          "y": [
           0,
           1
          ]
         },
         "style": "open-street-map",
         "zoom": 10
        },
        "margin": {
         "b": 0,
         "l": 0,
         "r": 0,
         "t": 0
        },
        "template": {
         "data": {
          "bar": [
           {
            "error_x": {
             "color": "#2a3f5f"
            },
            "error_y": {
             "color": "#2a3f5f"
            },
            "marker": {
             "line": {
              "color": "#E5ECF6",
              "width": 0.5
             },
             "pattern": {
              "fillmode": "overlay",
              "size": 10,
              "solidity": 0.2
             }
            },
            "type": "bar"
           }
          ],
          "barpolar": [
           {
            "marker": {
             "line": {
              "color": "#E5ECF6",
              "width": 0.5
             },
             "pattern": {
              "fillmode": "overlay",
              "size": 10,
              "solidity": 0.2
             }
            },
            "type": "barpolar"
           }
          ],
          "carpet": [
           {
            "aaxis": {
             "endlinecolor": "#2a3f5f",
             "gridcolor": "white",
             "linecolor": "white",
             "minorgridcolor": "white",
             "startlinecolor": "#2a3f5f"
            },
            "baxis": {
             "endlinecolor": "#2a3f5f",
             "gridcolor": "white",
             "linecolor": "white",
             "minorgridcolor": "white",
             "startlinecolor": "#2a3f5f"
            },
            "type": "carpet"
           }
          ],
          "choropleth": [
           {
            "colorbar": {
             "outlinewidth": 0,
             "ticks": ""
            },
            "type": "choropleth"
           }
          ],
          "contour": [
           {
            "colorbar": {
             "outlinewidth": 0,
             "ticks": ""
            },
            "colorscale": [
             [
              0,
              "#0d0887"
             ],
             [
              0.1111111111111111,
              "#46039f"
             ],
             [
              0.2222222222222222,
              "#7201a8"
             ],
             [
              0.3333333333333333,
              "#9c179e"
             ],
             [
              0.4444444444444444,
              "#bd3786"
             ],
             [
              0.5555555555555556,
              "#d8576b"
             ],
             [
              0.6666666666666666,
              "#ed7953"
             ],
             [
              0.7777777777777778,
              "#fb9f3a"
             ],
             [
              0.8888888888888888,
              "#fdca26"
             ],
             [
              1,
              "#f0f921"
             ]
            ],
            "type": "contour"
           }
          ],
          "contourcarpet": [
           {
            "colorbar": {
             "outlinewidth": 0,
             "ticks": ""
            },
            "type": "contourcarpet"
           }
          ],
          "heatmap": [
           {
            "colorbar": {
             "outlinewidth": 0,
             "ticks": ""
            },
            "colorscale": [
             [
              0,
              "#0d0887"
             ],
             [
              0.1111111111111111,
              "#46039f"
             ],
             [
              0.2222222222222222,
              "#7201a8"
             ],
             [
              0.3333333333333333,
              "#9c179e"
             ],
             [
              0.4444444444444444,
              "#bd3786"
             ],
             [
              0.5555555555555556,
              "#d8576b"
             ],
             [
              0.6666666666666666,
              "#ed7953"
             ],
             [
              0.7777777777777778,
              "#fb9f3a"
             ],
             [
              0.8888888888888888,
              "#fdca26"
             ],
             [
              1,
              "#f0f921"
             ]
            ],
            "type": "heatmap"
           }
          ],
          "heatmapgl": [
           {
            "colorbar": {
             "outlinewidth": 0,
             "ticks": ""
            },
            "colorscale": [
             [
              0,
              "#0d0887"
             ],
             [
              0.1111111111111111,
              "#46039f"
             ],
             [
              0.2222222222222222,
              "#7201a8"
             ],
             [
              0.3333333333333333,
              "#9c179e"
             ],
             [
              0.4444444444444444,
              "#bd3786"
             ],
             [
              0.5555555555555556,
              "#d8576b"
             ],
             [
              0.6666666666666666,
              "#ed7953"
             ],
             [
              0.7777777777777778,
              "#fb9f3a"
             ],
             [
              0.8888888888888888,
              "#fdca26"
             ],
             [
              1,
              "#f0f921"
             ]
            ],
            "type": "heatmapgl"
           }
          ],
          "histogram": [
           {
            "marker": {
             "pattern": {
              "fillmode": "overlay",
              "size": 10,
              "solidity": 0.2
             }
            },
            "type": "histogram"
           }
          ],
          "histogram2d": [
           {
            "colorbar": {
             "outlinewidth": 0,
             "ticks": ""
            },
            "colorscale": [
             [
              0,
              "#0d0887"
             ],
             [
              0.1111111111111111,
              "#46039f"
             ],
             [
              0.2222222222222222,
              "#7201a8"
             ],
             [
              0.3333333333333333,
              "#9c179e"
             ],
             [
              0.4444444444444444,
              "#bd3786"
             ],
             [
              0.5555555555555556,
              "#d8576b"
             ],
             [
              0.6666666666666666,
              "#ed7953"
             ],
             [
              0.7777777777777778,
              "#fb9f3a"
             ],
             [
              0.8888888888888888,
              "#fdca26"
             ],
             [
              1,
              "#f0f921"
             ]
            ],
            "type": "histogram2d"
           }
          ],
          "histogram2dcontour": [
           {
            "colorbar": {
             "outlinewidth": 0,
             "ticks": ""
            },
            "colorscale": [
             [
              0,
              "#0d0887"
             ],
             [
              0.1111111111111111,
              "#46039f"
             ],
             [
              0.2222222222222222,
              "#7201a8"
             ],
             [
              0.3333333333333333,
              "#9c179e"
             ],
             [
              0.4444444444444444,
              "#bd3786"
             ],
             [
              0.5555555555555556,
              "#d8576b"
             ],
             [
              0.6666666666666666,
              "#ed7953"
             ],
             [
              0.7777777777777778,
              "#fb9f3a"
             ],
             [
              0.8888888888888888,
              "#fdca26"
             ],
             [
              1,
              "#f0f921"
             ]
            ],
            "type": "histogram2dcontour"
           }
          ],
          "mesh3d": [
           {
            "colorbar": {
             "outlinewidth": 0,
             "ticks": ""
            },
            "type": "mesh3d"
           }
          ],
          "parcoords": [
           {
            "line": {
             "colorbar": {
              "outlinewidth": 0,
              "ticks": ""
             }
            },
            "type": "parcoords"
           }
          ],
          "pie": [
           {
            "automargin": true,
            "type": "pie"
           }
          ],
          "scatter": [
           {
            "fillpattern": {
             "fillmode": "overlay",
             "size": 10,
             "solidity": 0.2
            },
            "type": "scatter"
           }
          ],
          "scatter3d": [
           {
            "line": {
             "colorbar": {
              "outlinewidth": 0,
              "ticks": ""
             }
            },
            "marker": {
             "colorbar": {
              "outlinewidth": 0,
              "ticks": ""
             }
            },
            "type": "scatter3d"
           }
          ],
          "scattercarpet": [
           {
            "marker": {
             "colorbar": {
              "outlinewidth": 0,
              "ticks": ""
             }
            },
            "type": "scattercarpet"
           }
          ],
          "scattergeo": [
           {
            "marker": {
             "colorbar": {
              "outlinewidth": 0,
              "ticks": ""
             }
            },
            "type": "scattergeo"
           }
          ],
          "scattergl": [
           {
            "marker": {
             "colorbar": {
              "outlinewidth": 0,
              "ticks": ""
             }
            },
            "type": "scattergl"
           }
          ],
          "scattermapbox": [
           {
            "marker": {
             "colorbar": {
              "outlinewidth": 0,
              "ticks": ""
             }
            },
            "type": "scattermapbox"
           }
          ],
          "scatterpolar": [
           {
            "marker": {
             "colorbar": {
              "outlinewidth": 0,
              "ticks": ""
             }
            },
            "type": "scatterpolar"
           }
          ],
          "scatterpolargl": [
           {
            "marker": {
             "colorbar": {
              "outlinewidth": 0,
              "ticks": ""
             }
            },
            "type": "scatterpolargl"
           }
          ],
          "scatterternary": [
           {
            "marker": {
             "colorbar": {
              "outlinewidth": 0,
              "ticks": ""
             }
            },
            "type": "scatterternary"
           }
          ],
          "surface": [
           {
            "colorbar": {
             "outlinewidth": 0,
             "ticks": ""
            },
            "colorscale": [
             [
              0,
              "#0d0887"
             ],
             [
              0.1111111111111111,
              "#46039f"
             ],
             [
              0.2222222222222222,
              "#7201a8"
             ],
             [
              0.3333333333333333,
              "#9c179e"
             ],
             [
              0.4444444444444444,
              "#bd3786"
             ],
             [
              0.5555555555555556,
              "#d8576b"
             ],
             [
              0.6666666666666666,
              "#ed7953"
             ],
             [
              0.7777777777777778,
              "#fb9f3a"
             ],
             [
              0.8888888888888888,
              "#fdca26"
             ],
             [
              1,
              "#f0f921"
             ]
            ],
            "type": "surface"
           }
          ],
          "table": [
           {
            "cells": {
             "fill": {
              "color": "#EBF0F8"
             },
             "line": {
              "color": "white"
             }
            },
            "header": {
             "fill": {
              "color": "#C8D4E3"
             },
             "line": {
              "color": "white"
             }
            },
            "type": "table"
           }
          ]
         },
         "layout": {
          "annotationdefaults": {
           "arrowcolor": "#2a3f5f",
           "arrowhead": 0,
           "arrowwidth": 1
          },
          "autotypenumbers": "strict",
          "coloraxis": {
           "colorbar": {
            "outlinewidth": 0,
            "ticks": ""
           }
          },
          "colorscale": {
           "diverging": [
            [
             0,
             "#8e0152"
            ],
            [
             0.1,
             "#c51b7d"
            ],
            [
             0.2,
             "#de77ae"
            ],
            [
             0.3,
             "#f1b6da"
            ],
            [
             0.4,
             "#fde0ef"
            ],
            [
             0.5,
             "#f7f7f7"
            ],
            [
             0.6,
             "#e6f5d0"
            ],
            [
             0.7,
             "#b8e186"
            ],
            [
             0.8,
             "#7fbc41"
            ],
            [
             0.9,
             "#4d9221"
            ],
            [
             1,
             "#276419"
            ]
           ],
           "sequential": [
            [
             0,
             "#0d0887"
            ],
            [
             0.1111111111111111,
             "#46039f"
            ],
            [
             0.2222222222222222,
             "#7201a8"
            ],
            [
             0.3333333333333333,
             "#9c179e"
            ],
            [
             0.4444444444444444,
             "#bd3786"
            ],
            [
             0.5555555555555556,
             "#d8576b"
            ],
            [
             0.6666666666666666,
             "#ed7953"
            ],
            [
             0.7777777777777778,
             "#fb9f3a"
            ],
            [
             0.8888888888888888,
             "#fdca26"
            ],
            [
             1,
             "#f0f921"
            ]
           ],
           "sequentialminus": [
            [
             0,
             "#0d0887"
            ],
            [
             0.1111111111111111,
             "#46039f"
            ],
            [
             0.2222222222222222,
             "#7201a8"
            ],
            [
             0.3333333333333333,
             "#9c179e"
            ],
            [
             0.4444444444444444,
             "#bd3786"
            ],
            [
             0.5555555555555556,
             "#d8576b"
            ],
            [
             0.6666666666666666,
             "#ed7953"
            ],
            [
             0.7777777777777778,
             "#fb9f3a"
            ],
            [
             0.8888888888888888,
             "#fdca26"
            ],
            [
             1,
             "#f0f921"
            ]
           ]
          },
          "colorway": [
           "#636efa",
           "#EF553B",
           "#00cc96",
           "#ab63fa",
           "#FFA15A",
           "#19d3f3",
           "#FF6692",
           "#B6E880",
           "#FF97FF",
           "#FECB52"
          ],
          "font": {
           "color": "#2a3f5f"
          },
          "geo": {
           "bgcolor": "white",
           "lakecolor": "white",
           "landcolor": "#E5ECF6",
           "showlakes": true,
           "showland": true,
           "subunitcolor": "white"
          },
          "hoverlabel": {
           "align": "left"
          },
          "hovermode": "closest",
          "mapbox": {
           "style": "light"
          },
          "paper_bgcolor": "white",
          "plot_bgcolor": "#E5ECF6",
          "polar": {
           "angularaxis": {
            "gridcolor": "white",
            "linecolor": "white",
            "ticks": ""
           },
           "bgcolor": "#E5ECF6",
           "radialaxis": {
            "gridcolor": "white",
            "linecolor": "white",
            "ticks": ""
           }
          },
          "scene": {
           "xaxis": {
            "backgroundcolor": "#E5ECF6",
            "gridcolor": "white",
            "gridwidth": 2,
            "linecolor": "white",
            "showbackground": true,
            "ticks": "",
            "zerolinecolor": "white"
           },
           "yaxis": {
            "backgroundcolor": "#E5ECF6",
            "gridcolor": "white",
            "gridwidth": 2,
            "linecolor": "white",
            "showbackground": true,
            "ticks": "",
            "zerolinecolor": "white"
           },
           "zaxis": {
            "backgroundcolor": "#E5ECF6",
            "gridcolor": "white",
            "gridwidth": 2,
            "linecolor": "white",
            "showbackground": true,
            "ticks": "",
            "zerolinecolor": "white"
           }
          },
          "shapedefaults": {
           "line": {
            "color": "#2a3f5f"
           }
          },
          "ternary": {
           "aaxis": {
            "gridcolor": "white",
            "linecolor": "white",
            "ticks": ""
           },
           "baxis": {
            "gridcolor": "white",
            "linecolor": "white",
            "ticks": ""
           },
           "bgcolor": "#E5ECF6",
           "caxis": {
            "gridcolor": "white",
            "linecolor": "white",
            "ticks": ""
           }
          },
          "title": {
           "x": 0.05
          },
          "xaxis": {
           "automargin": true,
           "gridcolor": "white",
           "linecolor": "white",
           "ticks": "",
           "title": {
            "standoff": 15
           },
           "zerolinecolor": "white",
           "zerolinewidth": 2
          },
          "yaxis": {
           "automargin": true,
           "gridcolor": "white",
           "linecolor": "white",
           "ticks": "",
           "title": {
            "standoff": 15
           },
           "zerolinecolor": "white",
           "zerolinewidth": 2
          }
         }
        },
        "width": 800
       }
      }
     },
     "metadata": {},
     "output_type": "display_data"
    }
   ],
   "source": [
    "import plotly.express as px\n",
    "import pandas as pd\n",
    "\n",
    "# color_scale = [(0, 'orange')]\n",
    "#zoom = getBoundsZoomLevel([26.229162, 91.849942, 26.081007, 91.0])\n",
    "fig = px.scatter_mapbox(test_df, \n",
    "                        lat=\"lat\", \n",
    "                        lon=\"long\", \n",
    "                        hover_name=\"name\", \n",
    "                        # hover_data=[\"Address\", \"Listed\"],\n",
    "                        # color=\"Listed\",\n",
    "                        # color_continuous_scale=color_scale,\n",
    "                        # size=\"Listed\",\n",
    "                        zoom=10, \n",
    "                        height=800,\n",
    "                        width=800)\n",
    "\n",
    "fig.update_layout(mapbox_style=\"open-street-map\")\n",
    "fig.update_layout(margin={\"r\":0,\"t\":0,\"l\":0,\"b\":0})\n",
    "fig.show()"
   ]
  },
  {
   "cell_type": "code",
   "execution_count": 8,
   "metadata": {},
   "outputs": [
    {
     "data": {
      "text/html": [
       "<div>\n",
       "<style scoped>\n",
       "    .dataframe tbody tr th:only-of-type {\n",
       "        vertical-align: middle;\n",
       "    }\n",
       "\n",
       "    .dataframe tbody tr th {\n",
       "        vertical-align: top;\n",
       "    }\n",
       "\n",
       "    .dataframe thead th {\n",
       "        text-align: right;\n",
       "    }\n",
       "</style>\n",
       "<table border=\"1\" class=\"dataframe\">\n",
       "  <thead>\n",
       "    <tr style=\"text-align: right;\">\n",
       "      <th></th>\n",
       "      <th>name</th>\n",
       "      <th>coordinates</th>\n",
       "      <th>average_rating</th>\n",
       "      <th>number_of_ratings</th>\n",
       "      <th>lat</th>\n",
       "      <th>long</th>\n",
       "    </tr>\n",
       "  </thead>\n",
       "  <tbody>\n",
       "    <tr>\n",
       "      <th>0</th>\n",
       "      <td>Quick Kitchen</td>\n",
       "      <td>(26.107517, 91.616328)</td>\n",
       "      <td>2.0</td>\n",
       "      <td>658</td>\n",
       "      <td>26.107517</td>\n",
       "      <td>91.616328</td>\n",
       "    </tr>\n",
       "    <tr>\n",
       "      <th>1</th>\n",
       "      <td>Golden Bakery</td>\n",
       "      <td>(26.130371, 91.789294)</td>\n",
       "      <td>3.5</td>\n",
       "      <td>584</td>\n",
       "      <td>26.130371</td>\n",
       "      <td>91.789294</td>\n",
       "    </tr>\n",
       "    <tr>\n",
       "      <th>2</th>\n",
       "      <td>Happy Bakery</td>\n",
       "      <td>(26.21307, 91.774535)</td>\n",
       "      <td>3.8</td>\n",
       "      <td>29</td>\n",
       "      <td>26.213070</td>\n",
       "      <td>91.774535</td>\n",
       "    </tr>\n",
       "    <tr>\n",
       "      <th>3</th>\n",
       "      <td>Quick Tavern</td>\n",
       "      <td>(26.150731, 91.839227)</td>\n",
       "      <td>2.2</td>\n",
       "      <td>770</td>\n",
       "      <td>26.150731</td>\n",
       "      <td>91.839227</td>\n",
       "    </tr>\n",
       "    <tr>\n",
       "      <th>4</th>\n",
       "      <td>Tasty Cafe</td>\n",
       "      <td>(26.150801, 91.696938)</td>\n",
       "      <td>2.4</td>\n",
       "      <td>143</td>\n",
       "      <td>26.150801</td>\n",
       "      <td>91.696938</td>\n",
       "    </tr>\n",
       "  </tbody>\n",
       "</table>\n",
       "</div>"
      ],
      "text/plain": [
       "            name             coordinates  average_rating  number_of_ratings  \\\n",
       "0  Quick Kitchen  (26.107517, 91.616328)             2.0                658   \n",
       "1  Golden Bakery  (26.130371, 91.789294)             3.5                584   \n",
       "2   Happy Bakery   (26.21307, 91.774535)             3.8                 29   \n",
       "3   Quick Tavern  (26.150731, 91.839227)             2.2                770   \n",
       "4     Tasty Cafe  (26.150801, 91.696938)             2.4                143   \n",
       "\n",
       "         lat       long  \n",
       "0  26.107517  91.616328  \n",
       "1  26.130371  91.789294  \n",
       "2  26.213070  91.774535  \n",
       "3  26.150731  91.839227  \n",
       "4  26.150801  91.696938  "
      ]
     },
     "execution_count": 8,
     "metadata": {},
     "output_type": "execute_result"
    }
   ],
   "source": [
    "test_df.head()"
   ]
  },
  {
   "cell_type": "code",
   "execution_count": 11,
   "metadata": {},
   "outputs": [],
   "source": [
    "test_df.drop(['coordinates'], axis=1, inplace=True)"
   ]
  },
  {
   "cell_type": "code",
   "execution_count": 12,
   "metadata": {},
   "outputs": [
    {
     "data": {
      "text/html": [
       "<div>\n",
       "<style scoped>\n",
       "    .dataframe tbody tr th:only-of-type {\n",
       "        vertical-align: middle;\n",
       "    }\n",
       "\n",
       "    .dataframe tbody tr th {\n",
       "        vertical-align: top;\n",
       "    }\n",
       "\n",
       "    .dataframe thead th {\n",
       "        text-align: right;\n",
       "    }\n",
       "</style>\n",
       "<table border=\"1\" class=\"dataframe\">\n",
       "  <thead>\n",
       "    <tr style=\"text-align: right;\">\n",
       "      <th></th>\n",
       "      <th>name</th>\n",
       "      <th>average_rating</th>\n",
       "      <th>number_of_ratings</th>\n",
       "      <th>lat</th>\n",
       "      <th>long</th>\n",
       "    </tr>\n",
       "  </thead>\n",
       "  <tbody>\n",
       "    <tr>\n",
       "      <th>0</th>\n",
       "      <td>Quick Kitchen</td>\n",
       "      <td>2.0</td>\n",
       "      <td>658</td>\n",
       "      <td>26.107517</td>\n",
       "      <td>91.616328</td>\n",
       "    </tr>\n",
       "    <tr>\n",
       "      <th>1</th>\n",
       "      <td>Golden Bakery</td>\n",
       "      <td>3.5</td>\n",
       "      <td>584</td>\n",
       "      <td>26.130371</td>\n",
       "      <td>91.789294</td>\n",
       "    </tr>\n",
       "    <tr>\n",
       "      <th>2</th>\n",
       "      <td>Happy Bakery</td>\n",
       "      <td>3.8</td>\n",
       "      <td>29</td>\n",
       "      <td>26.213070</td>\n",
       "      <td>91.774535</td>\n",
       "    </tr>\n",
       "    <tr>\n",
       "      <th>3</th>\n",
       "      <td>Quick Tavern</td>\n",
       "      <td>2.2</td>\n",
       "      <td>770</td>\n",
       "      <td>26.150731</td>\n",
       "      <td>91.839227</td>\n",
       "    </tr>\n",
       "    <tr>\n",
       "      <th>4</th>\n",
       "      <td>Tasty Cafe</td>\n",
       "      <td>2.4</td>\n",
       "      <td>143</td>\n",
       "      <td>26.150801</td>\n",
       "      <td>91.696938</td>\n",
       "    </tr>\n",
       "  </tbody>\n",
       "</table>\n",
       "</div>"
      ],
      "text/plain": [
       "            name  average_rating  number_of_ratings        lat       long\n",
       "0  Quick Kitchen             2.0                658  26.107517  91.616328\n",
       "1  Golden Bakery             3.5                584  26.130371  91.789294\n",
       "2   Happy Bakery             3.8                 29  26.213070  91.774535\n",
       "3   Quick Tavern             2.2                770  26.150731  91.839227\n",
       "4     Tasty Cafe             2.4                143  26.150801  91.696938"
      ]
     },
     "execution_count": 12,
     "metadata": {},
     "output_type": "execute_result"
    }
   ],
   "source": [
    "test_df.head()"
   ]
  },
  {
   "cell_type": "markdown",
   "metadata": {},
   "source": [
    "# Centroid based clustering"
   ]
  },
  {
   "cell_type": "code",
   "execution_count": 16,
   "metadata": {},
   "outputs": [],
   "source": [
    "from sklearn.preprocessing import StandardScaler\n",
    "from sklearn.cluster import KMeans\n",
    "from sklearn.metrics import silhouette_score\n",
    "import folium\n",
    "import matplotlib.pyplot as plt"
   ]
  },
  {
   "cell_type": "code",
   "execution_count": 17,
   "metadata": {},
   "outputs": [
    {
     "name": "stdout",
     "output_type": "stream",
     "text": [
      "Silhouette Score: 0.2981323706249974\n",
      "Cluster Centers (scaled):\n",
      "[[-1.01602548 -0.23996759 -0.6049846 ]\n",
      " [-0.60792212  0.6951126   1.08332797]\n",
      " [ 0.60079931 -1.14845086 -0.96459914]\n",
      " [ 0.9684714  -0.63756821  0.64852427]\n",
      " [ 0.67457147  1.08902838 -0.79708623]]\n"
     ]
    },
    {
     "data": {
      "image/png": "[encoded data removed]",
      "text/plain": [
       "<Figure size 1000x600 with 2 Axes>"
      ]
     },
     "metadata": {},
     "output_type": "display_data"
    }
   ],
   "source": [
    "# calculating a success score:\n",
    "test_df['success_score'] = test_df['average_rating'] * np.log1p(test_df['number_of_ratings'])\n",
    "features = test_df[['lat', 'long', 'success_score']]\n",
    "\n",
    "scaler = StandardScaler()\n",
    "scaled_features = scaler.fit_transform(features)\n",
    "\n",
    "# Clustering using K-Means\n",
    "k = 5  # Number of clusters (can be adjusted)\n",
    "kmeans = KMeans(n_clusters=k, random_state=42)\n",
    "test_df['cluster'] = kmeans.fit_predict(scaled_features)\n",
    "\n",
    "# Evaluate clustering with Silhouette Score\n",
    "silhouette_avg = silhouette_score(scaled_features, test_df['cluster'])\n",
    "print(f\"Silhouette Score: {silhouette_avg}\")\n",
    "\n",
    "# Visualize clusters on a map\n",
    "# Initialize the map centered around the mean latitude and longitude\n",
    "map_center = [test_df['lat'].mean(), test_df['long'].mean()]\n",
    "cluster_map = folium.Map(location=map_center, zoom_start=12)\n",
    "\n",
    "# Add points to the map\n",
    "colors = ['red', 'blue', 'green', 'purple', 'orange']  # Add more if k > 5\n",
    "for i, row in test_df.iterrows():\n",
    "    folium.CircleMarker(\n",
    "        location=(row['lat'], row['long']),\n",
    "        radius=5,\n",
    "        color=colors[row['cluster']],\n",
    "        fill=True,\n",
    "        fill_color=colors[row['cluster']],\n",
    "        fill_opacity=0.7\n",
    "    ).add_to(cluster_map)\n",
    "\n",
    "# Save the map to an HTML file\n",
    "cluster_map.save(\"cluster_map.html\")\n",
    "\n",
    "# Display cluster centers\n",
    "print(\"Cluster Centers (scaled):\")\n",
    "print(kmeans.cluster_centers_)\n",
    "\n",
    "# Optional: Plot clusters on a 2D scatter plot (latitude vs longitude)\n",
    "plt.figure(figsize=(10, 6))\n",
    "plt.scatter(test_df['lat'], test_df['long'], c=test_df['cluster'], cmap='viridis', alpha=0.5)\n",
    "plt.title('Clusters of Restaurants')\n",
    "plt.xlabel('Latitude')\n",
    "plt.ylabel('Longitude')\n",
    "plt.colorbar(label='Cluster')\n",
    "plt.show()"
   ]
  },
  {
   "cell_type": "code",
   "execution_count": 18,
   "metadata": {},
   "outputs": [
    {
     "name": "stdout",
     "output_type": "stream",
     "text": [
      "Cluster Centers (original scale):\n",
      "[[26.10557965 91.69638704  9.39145442]\n",
      " [26.12360046 91.76748112 25.00591958]\n",
      " [26.17697453 91.62731513  6.06553669]\n",
      " [26.19321    91.6661575  20.98461013]\n",
      " [26.18023212 91.7974305   7.61479044]]\n"
     ]
    }
   ],
   "source": [
    "# now that we have clusters, how to identify which cluster has greatest success score?\n",
    "original_centers = scaler.inverse_transform(kmeans.cluster_centers_) # this will reverse standard scaling\n",
    "print(\"Cluster Centers (original scale):\")\n",
    "print(original_centers)"
   ]
  },
  {
   "cell_type": "code",
   "execution_count": null,
   "metadata": {},
   "outputs": [
    {
     "name": "stdout",
     "output_type": "stream",
     "text": [
      "Average Success Score by Cluster:\n",
      "cluster\n",
      "0     9.391454\n",
      "1    25.005920\n",
      "2     6.065537\n",
      "3    20.984610\n",
      "4     7.614790\n",
      "Name: success_score, dtype: float64\n"
     ]
    }
   ],
   "source": [
    "# average success scores in a cluster - same as centroid obviously\n",
    "cluster_scores = test_df.groupby('cluster')['success_score'].mean()\n",
    "print(\"Average Success Score by Cluster:\")\n",
    "print(cluster_scores)"
   ]
  },
  {
   "cell_type": "markdown",
   "metadata": {},
   "source": [
    "### lat and long associated with centroid of cluser 1 is the optimal location to start a restuarant"
   ]
  },
  {
   "cell_type": "markdown",
   "metadata": {},
   "source": []
  }
 ],
 "metadata": {
  "kernelspec": {
   "display_name": "Python 3",
   "language": "python",
   "name": "python3"
  },
  "language_info": {
   "codemirror_mode": {
    "name": "ipython",
    "version": 3
   },
   "file_extension": ".py",
   "mimetype": "text/x-python",
   "name": "python",
   "nbconvert_exporter": "python",
   "pygments_lexer": "ipython3",
   "version": "3.10.11"
  }
 },
 "nbformat": 4,
 "nbformat_minor": 2
}

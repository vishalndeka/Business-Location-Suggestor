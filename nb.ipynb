{
 "cells": [
  {
   "cell_type": "code",
   "execution_count": 1,
   "metadata": {},
   "outputs": [],
   "source": [
    "import pandas as pd\n",
    "import numpy as np"
   ]
  },
  {
   "cell_type": "code",
   "execution_count": 5,
   "metadata": {},
   "outputs": [],
   "source": [
    "df = pd.read_csv('restaurant_data_guwahati.csv')"
   ]
  },
  {
   "cell_type": "markdown",
   "metadata": {},
   "source": [
    "# Some EDA"
   ]
  },
  {
   "cell_type": "code",
   "execution_count": 6,
   "metadata": {},
   "outputs": [
    {
     "data": {
      "text/html": [
       "<div>\n",
       "<style scoped>\n",
       "    .dataframe tbody tr th:only-of-type {\n",
       "        vertical-align: middle;\n",
       "    }\n",
       "\n",
       "    .dataframe tbody tr th {\n",
       "        vertical-align: top;\n",
       "    }\n",
       "\n",
       "    .dataframe thead th {\n",
       "        text-align: right;\n",
       "    }\n",
       "</style>\n",
       "<table border=\"1\" class=\"dataframe\">\n",
       "  <thead>\n",
       "    <tr style=\"text-align: right;\">\n",
       "      <th></th>\n",
       "      <th>name</th>\n",
       "      <th>coordinates</th>\n",
       "      <th>average_rating</th>\n",
       "      <th>number_of_ratings</th>\n",
       "    </tr>\n",
       "  </thead>\n",
       "  <tbody>\n",
       "    <tr>\n",
       "      <th>0</th>\n",
       "      <td>Quick Kitchen</td>\n",
       "      <td>(26.107517, 91.616328)</td>\n",
       "      <td>2.0</td>\n",
       "      <td>658</td>\n",
       "    </tr>\n",
       "    <tr>\n",
       "      <th>1</th>\n",
       "      <td>Golden Bakery</td>\n",
       "      <td>(26.130371, 91.789294)</td>\n",
       "      <td>3.5</td>\n",
       "      <td>584</td>\n",
       "    </tr>\n",
       "    <tr>\n",
       "      <th>2</th>\n",
       "      <td>Happy Bakery</td>\n",
       "      <td>(26.21307, 91.774535)</td>\n",
       "      <td>3.8</td>\n",
       "      <td>29</td>\n",
       "    </tr>\n",
       "    <tr>\n",
       "      <th>3</th>\n",
       "      <td>Quick Tavern</td>\n",
       "      <td>(26.150731, 91.839227)</td>\n",
       "      <td>2.2</td>\n",
       "      <td>770</td>\n",
       "    </tr>\n",
       "    <tr>\n",
       "      <th>4</th>\n",
       "      <td>Tasty Cafe</td>\n",
       "      <td>(26.150801, 91.696938)</td>\n",
       "      <td>2.4</td>\n",
       "      <td>143</td>\n",
       "    </tr>\n",
       "  </tbody>\n",
       "</table>\n",
       "</div>"
      ],
      "text/plain": [
       "            name             coordinates  average_rating  number_of_ratings\n",
       "0  Quick Kitchen  (26.107517, 91.616328)             2.0                658\n",
       "1  Golden Bakery  (26.130371, 91.789294)             3.5                584\n",
       "2   Happy Bakery   (26.21307, 91.774535)             3.8                 29\n",
       "3   Quick Tavern  (26.150731, 91.839227)             2.2                770\n",
       "4     Tasty Cafe  (26.150801, 91.696938)             2.4                143"
      ]
     },
     "execution_count": 6,
     "metadata": {},
     "output_type": "execute_result"
    }
   ],
   "source": [
    "df.head()"
   ]
  },
  {
   "cell_type": "code",
   "execution_count": 12,
   "metadata": {},
   "outputs": [],
   "source": [
    "test_df = df"
   ]
  },
  {
   "cell_type": "code",
   "execution_count": 9,
   "metadata": {},
   "outputs": [
    {
     "data": {
      "text/plain": [
       "'(26.107517, 91.616328)'"
      ]
     },
     "execution_count": 9,
     "metadata": {},
     "output_type": "execute_result"
    }
   ],
   "source": [
    "test_df.at[0, 'coordinates']"
   ]
  },
  {
   "cell_type": "markdown",
   "metadata": {},
   "source": [
    "#### Converting all co-ordinates from strings to floating point tuples"
   ]
  },
  {
   "cell_type": "code",
   "execution_count": 16,
   "metadata": {},
   "outputs": [],
   "source": [
    "# test_df.at[0, 'coordinates']\n",
    "lat = []\n",
    "long = []\n",
    "for i in range(test_df.shape[0]):\n",
    "    val = test_df.at[i, 'coordinates']\n",
    "    j = 0\n",
    "    while j < len(val):\n",
    "        if val[j]==',':\n",
    "            break\n",
    "        j += 1\n",
    "    \n",
    "    lat.append(np.float64(val[1:j]))\n",
    "    long.append(np.float64(val[j+2:-1]))\n"
   ]
  },
  {
   "cell_type": "code",
   "execution_count": 17,
   "metadata": {},
   "outputs": [],
   "source": [
    "test_df['lat'] = lat\n",
    "test_df['long'] = long"
   ]
  },
  {
   "cell_type": "code",
   "execution_count": 67,
   "metadata": {},
   "outputs": [],
   "source": [
    "max_c = [25.0, 90.0]\n",
    "min_c = [27.0, 93.0]\n",
    "for i in range(test_df.shape[0]):\n",
    "    c = test_df.at[i, 'coordinates']\n",
    "    if c[0] > max_c[0]:\n",
    "        max_c[0] = c[0]\n",
    "    if c[0] < min_c[0]:\n",
    "        min_c[0] = c[0]\n",
    "\n",
    "    if c[1] > max_c[1]:\n",
    "        max_c[1] = c[1]\n",
    "    if c[1] < min_c[1]:\n",
    "        min_c[1] = c[1]"
   ]
  },
  {
   "cell_type": "code",
   "execution_count": 66,
   "metadata": {},
   "outputs": [
    {
     "data": {
      "text/plain": [
       "([26.229162, 91.849942], [26.081007, 91.0])"
      ]
     },
     "execution_count": 66,
     "metadata": {},
     "output_type": "execute_result"
    }
   ],
   "source": [
    "max_c, min_c"
   ]
  },
  {
   "cell_type": "markdown",
   "metadata": {},
   "source": [
    "#### Plotting coordinates"
   ]
  },
  {
   "cell_type": "code",
   "execution_count": null,
   "metadata": {},
   "outputs": [
    {
     "ename": "TypeError",
     "evalue": "getBoundsZoomLevel() missing 1 required positional argument: 'mapDim'",
     "output_type": "error",
     "traceback": [
      "\u001b[1;31m---------------------------------------------------------------------------\u001b[0m",
      "\u001b[1;31mTypeError\u001b[0m                                 Traceback (most recent call last)",
      "Cell \u001b[1;32mIn[2], line 5\u001b[0m\n\u001b[0;32m      2\u001b[0m \u001b[38;5;28;01mimport\u001b[39;00m \u001b[38;5;21;01mpandas\u001b[39;00m \u001b[38;5;28;01mas\u001b[39;00m \u001b[38;5;21;01mpd\u001b[39;00m\n\u001b[0;32m      4\u001b[0m \u001b[38;5;66;03m# color_scale = [(0, 'orange')]\u001b[39;00m\n\u001b[1;32m----> 5\u001b[0m zoom \u001b[38;5;241m=\u001b[39m \u001b[43mgetBoundsZoomLevel\u001b[49m\u001b[43m(\u001b[49m\u001b[43m[\u001b[49m\u001b[38;5;241;43m26.229162\u001b[39;49m\u001b[43m,\u001b[49m\u001b[43m \u001b[49m\u001b[38;5;241;43m91.849942\u001b[39;49m\u001b[43m,\u001b[49m\u001b[43m \u001b[49m\u001b[38;5;241;43m26.081007\u001b[39;49m\u001b[43m,\u001b[49m\u001b[43m \u001b[49m\u001b[38;5;241;43m91.0\u001b[39;49m\u001b[43m]\u001b[49m\u001b[43m)\u001b[49m\n\u001b[0;32m      6\u001b[0m fig \u001b[38;5;241m=\u001b[39m px\u001b[38;5;241m.\u001b[39mscatter_mapbox(test_df, \n\u001b[0;32m      7\u001b[0m                         lat\u001b[38;5;241m=\u001b[39m\u001b[38;5;124m\"\u001b[39m\u001b[38;5;124mlat\u001b[39m\u001b[38;5;124m\"\u001b[39m, \n\u001b[0;32m      8\u001b[0m                         lon\u001b[38;5;241m=\u001b[39m\u001b[38;5;124m\"\u001b[39m\u001b[38;5;124mlong\u001b[39m\u001b[38;5;124m\"\u001b[39m, \n\u001b[1;32m   (...)\u001b[0m\n\u001b[0;32m     15\u001b[0m                         height\u001b[38;5;241m=\u001b[39m\u001b[38;5;241m800\u001b[39m,\n\u001b[0;32m     16\u001b[0m                         width\u001b[38;5;241m=\u001b[39m\u001b[38;5;241m800\u001b[39m)\n\u001b[0;32m     18\u001b[0m fig\u001b[38;5;241m.\u001b[39mupdate_layout(mapbox_style\u001b[38;5;241m=\u001b[39m\u001b[38;5;124m\"\u001b[39m\u001b[38;5;124mopen-street-map\u001b[39m\u001b[38;5;124m\"\u001b[39m)\n",
      "\u001b[1;31mTypeError\u001b[0m: getBoundsZoomLevel() missing 1 required positional argument: 'mapDim'"
     ]
    }
   ],
   "source": [
    "import plotly.express as px\n",
    "import pandas as pd\n",
    "\n",
    "# color_scale = [(0, 'orange')]\n",
    "#zoom = getBoundsZoomLevel([26.229162, 91.849942, 26.081007, 91.0])\n",
    "fig = px.scatter_mapbox(test_df, \n",
    "                        lat=\"lat\", \n",
    "                        lon=\"long\", \n",
    "                        hover_name=\"name\", \n",
    "                        # hover_data=[\"Address\", \"Listed\"],\n",
    "                        # color=\"Listed\",\n",
    "                        # color_continuous_scale=color_scale,\n",
    "                        # size=\"Listed\",\n",
    "                        zoom=10, \n",
    "                        height=800,\n",
    "                        width=800)\n",
    "\n",
    "fig.update_layout(mapbox_style=\"open-street-map\")\n",
    "fig.update_layout(margin={\"r\":0,\"t\":0,\"l\":0,\"b\":0})\n",
    "fig.show()"
   ]
  },
  {
   "cell_type": "code",
   "execution_count": null,
   "metadata": {},
   "outputs": [],
   "source": []
  }
 ],
 "metadata": {
  "kernelspec": {
   "display_name": "Python 3",
   "language": "python",
   "name": "python3"
  },
  "language_info": {
   "codemirror_mode": {
    "name": "ipython",
    "version": 3
   },
   "file_extension": ".py",
   "mimetype": "text/x-python",
   "name": "python",
   "nbconvert_exporter": "python",
   "pygments_lexer": "ipython3",
   "version": "3.10.11"
  }
 },
 "nbformat": 4,
 "nbformat_minor": 2
}
